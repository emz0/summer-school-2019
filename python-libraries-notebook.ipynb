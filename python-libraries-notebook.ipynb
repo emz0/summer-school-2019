{
 "cells": [
  {
   "cell_type": "code",
   "execution_count": 11,
   "metadata": {},
   "outputs": [],
   "source": [
    "# These aren't the imports you're looking for\n",
    "from pathlib import Path\n",
    "from itertools import chain\n",
    "from functools import partial\n",
    "from collections import namedtuple, Counter, OrderedDict, defaultdict\n",
    "import requests, arrow"
   ]
  },
  {
   "cell_type": "markdown",
   "metadata": {},
   "source": [
    "# String manipulation\n",
    "### Strings are also Iterable"
   ]
  },
  {
   "cell_type": "code",
   "execution_count": null,
   "metadata": {},
   "outputs": [],
   "source": [
    "hello_world = 'Hello World!'"
   ]
  },
  {
   "cell_type": "code",
   "execution_count": null,
   "metadata": {},
   "outputs": [],
   "source": [
    "hello_world[0]"
   ]
  },
  {
   "cell_type": "code",
   "execution_count": null,
   "metadata": {},
   "outputs": [],
   "source": [
    "hello_world[6:]"
   ]
  },
  {
   "cell_type": "code",
   "execution_count": null,
   "metadata": {},
   "outputs": [],
   "source": [
    "for ch in hello_world:\n",
    "    print(ch, end=' ')"
   ]
  },
  {
   "cell_type": "markdown",
   "metadata": {},
   "source": [
    "### Searching in strings"
   ]
  },
  {
   "cell_type": "code",
   "execution_count": null,
   "metadata": {},
   "outputs": [],
   "source": [
    "s = 'A quick brown fox jumped over a lazy dog'"
   ]
  },
  {
   "cell_type": "code",
   "execution_count": null,
   "metadata": {},
   "outputs": [],
   "source": [
    "'fox' in s"
   ]
  },
  {
   "cell_type": "code",
   "execution_count": null,
   "metadata": {},
   "outputs": [],
   "source": [
    "s.startswith('A quick')"
   ]
  },
  {
   "cell_type": "code",
   "execution_count": null,
   "metadata": {},
   "outputs": [],
   "source": [
    "s.endswith('cat')"
   ]
  },
  {
   "cell_type": "markdown",
   "metadata": {},
   "source": [
    "### Useful features"
   ]
  },
  {
   "cell_type": "code",
   "execution_count": null,
   "metadata": {},
   "outputs": [],
   "source": [
    "# String repeating\n",
    "\n",
    "'na ' * 5 + 'batman'"
   ]
  },
  {
   "cell_type": "code",
   "execution_count": null,
   "metadata": {},
   "outputs": [],
   "source": [
    "# Join iterables to a string\n",
    "\n",
    "fruits = ['apple', 'banana', 'cherry', 'orange', 'mango']\n",
    "', '.join(fruits)"
   ]
  },
  {
   "cell_type": "code",
   "execution_count": null,
   "metadata": {},
   "outputs": [],
   "source": [
    "# Split string to a list\n",
    "\n",
    "s = 'A quick brown fox jumped over a lazy dog'\n",
    "s.split()"
   ]
  },
  {
   "cell_type": "markdown",
   "metadata": {},
   "source": [
    "---\n",
    "# Python Standard Library - \"Batteries Included\"\n",
    "### Path manipulation"
   ]
  },
  {
   "cell_type": "code",
   "execution_count": null,
   "metadata": {},
   "outputs": [],
   "source": [
    "from pathlib import Path"
   ]
  },
  {
   "cell_type": "code",
   "execution_count": null,
   "metadata": {},
   "outputs": [],
   "source": [
    "home = Path('/home/smasty')\n",
    "this_dir = home / 'code' / 'summer-school'"
   ]
  },
  {
   "cell_type": "code",
   "execution_count": null,
   "metadata": {},
   "outputs": [],
   "source": [
    "this_dir.is_dir()"
   ]
  },
  {
   "cell_type": "code",
   "execution_count": null,
   "metadata": {},
   "outputs": [],
   "source": [
    "file = this_dir / 'file.txt'\n",
    "file.is_file()"
   ]
  },
  {
   "cell_type": "code",
   "execution_count": null,
   "metadata": {},
   "outputs": [],
   "source": [
    "file.exists()"
   ]
  },
  {
   "cell_type": "code",
   "execution_count": null,
   "metadata": {},
   "outputs": [],
   "source": [
    "with file.open('r') as f:\n",
    "    print(f.read())"
   ]
  },
  {
   "cell_type": "markdown",
   "metadata": {},
   "source": [
    "#### Some useful methods:\n",
    "\n",
    "- `path.is_dir()` - Is the path a directory?\n",
    "- `path.is_file()` - Is the path a file?\n",
    "- `path.exists()` - Does the path exist?\n",
    "- `file.open()` - Open file\n",
    "- `dir.iterdir()` - Iterate over contents of the directory\n",
    "- `dir.rmdir()` - Remove directory\n",
    "- `file.unlink()` - Remove file\n",
    "- `dir.mkdir()` - Create directory"
   ]
  },
  {
   "cell_type": "markdown",
   "metadata": {},
   "source": [
    "### Further reading: https://docs.python.org/3/library/pathlib.html\n",
    "---\n",
    "### Itertools / functools"
   ]
  },
  {
   "cell_type": "code",
   "execution_count": 8,
   "metadata": {},
   "outputs": [],
   "source": [
    "from itertools import chain\n",
    "from functools import partial"
   ]
  },
  {
   "cell_type": "code",
   "execution_count": null,
   "metadata": {},
   "outputs": [],
   "source": [
    "# Zip - combine two iterators together\n",
    "alpha = 'abcdefgh'\n",
    "nums = range(1, 9)\n",
    "\n",
    "positions = zip(nums, alpha)\n",
    "list(positions)"
   ]
  },
  {
   "cell_type": "code",
   "execution_count": null,
   "metadata": {},
   "outputs": [],
   "source": [
    "# Chain - chain multiple iterators\n",
    "\n",
    "list(chain(range(5), 'abcd', range(10, 40, 5)))"
   ]
  },
  {
   "cell_type": "code",
   "execution_count": null,
   "metadata": {},
   "outputs": [],
   "source": [
    "# Partial - create partial functions\n",
    "def pow(base, power):\n",
    "    return base ** power\n",
    "\n",
    "square = partial(pow, power=2)\n",
    "\n",
    "list(square(n) for n in range(1, 6))"
   ]
  },
  {
   "cell_type": "markdown",
   "metadata": {},
   "source": [
    "### Further reading\n",
    "- Itertools: https://docs.python.org/3/library/itertools.html\n",
    "- Functools: https://docs.python.org/3/library/functools.html\n",
    "---\n",
    "\n",
    "### Collections"
   ]
  },
  {
   "cell_type": "code",
   "execution_count": 7,
   "metadata": {},
   "outputs": [],
   "source": [
    "from collections import namedtuple, Counter, OrderedDict, defaultdict"
   ]
  },
  {
   "cell_type": "code",
   "execution_count": null,
   "metadata": {},
   "outputs": [],
   "source": [
    "# named tuple - immutable tuples with named arguments\n",
    "Pizza = namedtuple('Pizza', 'name description price')\n",
    "\n",
    "hawai = Pizza('Hawai', 'who doesn\\'t like a pineapple?', 5.45)\n",
    "margherita = Pizza(name='Margherita', description='The classic', price=4.00)\n",
    "\n",
    "print(margherita.price)\n",
    "list(hawai)"
   ]
  },
  {
   "cell_type": "code",
   "execution_count": null,
   "metadata": {},
   "outputs": [],
   "source": [
    "# Counter - Dictionary-like object for counting\n",
    "words = 'to be or not to be that is the question or not'.split()\n",
    "\n",
    "frequency = Counter(words)\n",
    "print(frequency['to'], 'to')\n",
    "print(frequency['be'], 'be')\n",
    "print(frequency['question'], 'question')\n",
    "print(frequency['hello'], 'hello')"
   ]
  },
  {
   "cell_type": "code",
   "execution_count": null,
   "metadata": {},
   "outputs": [],
   "source": [
    "# OrderedDict - dictionary which remembers order of elements\n",
    "d = {}\n",
    "d['a'] = 1\n",
    "d['b'] = 2\n",
    "d['c'] = 3\n",
    "\n",
    "print(list(d.keys()))  # might return the keys in arbitrary order, e.g. [c, a, b]\n",
    "\n",
    "\n",
    "od = OrderedDict()\n",
    "od['a'] = 1\n",
    "od['b'] = 2\n",
    "od['c'] = 3\n",
    "\n",
    "print(list(od.keys()))  # guaranteed to be in insert order, e.g. [a, b, c]"
   ]
  },
  {
   "cell_type": "code",
   "execution_count": null,
   "metadata": {},
   "outputs": [],
   "source": [
    "# defaultdict - dictionary with default values\n",
    "\n",
    "menu_items = [\n",
    "    ('pizza', 'margerita'),\n",
    "    ('pizza', 'hawai'),\n",
    "    ('pizza', 'pepperoni'),\n",
    "    ('pasta', 'spaghetti'),\n",
    "    ('pizza', 'fungi'),\n",
    "    ('pasta', 'tortelloni'),\n",
    "    ('pasta', 'farfalle'),\n",
    "    ('risotto', 'fungi'),\n",
    "]\n",
    "\n",
    "menu_dict = defaultdict(list)\n",
    "for group, item in menu_items:\n",
    "    menu_dict[group].append(item)\n",
    "\n",
    "for group in menu_dict:\n",
    "    print(group)\n",
    "    print('-', ', '.join(menu_dict[group]))"
   ]
  },
  {
   "cell_type": "markdown",
   "metadata": {},
   "source": [
    "### Further reading - https://docs.python.org/3/library/collections.html"
   ]
  },
  {
   "cell_type": "markdown",
   "metadata": {},
   "source": [
    "---\n",
    "\n",
    "# What's not included - Libraries\n",
    "\n",
    "## Requests - HTTP for Humans<sup>TM</sup>"
   ]
  },
  {
   "cell_type": "code",
   "execution_count": null,
   "metadata": {},
   "outputs": [],
   "source": [
    "import requests"
   ]
  },
  {
   "cell_type": "code",
   "execution_count": null,
   "metadata": {},
   "outputs": [],
   "source": [
    "r = requests.get('https://api.github.com/user', auth=('user', 'pass'))\n",
    "\n",
    "r.status_code              # -> 200\n",
    "r.headers['content-type']  # -> 'application/json; charset=utf8'\n",
    "r.encoding                 # -> 'utf-8'\n",
    "r.text                     # -> '{\"type\":\"User\"...'\n",
    "r.json()                   # -> {'private_gists': 419, 'total_private_repos': 77, ...}"
   ]
  },
  {
   "cell_type": "code",
   "execution_count": 5,
   "metadata": {},
   "outputs": [],
   "source": [
    "r = requests.get('https://dev.smasty.net/exponea-summer-school/?format=json')"
   ]
  },
  {
   "cell_type": "markdown",
   "metadata": {},
   "source": [
    "### Equivalent code without Requests:"
   ]
  },
  {
   "cell_type": "code",
   "execution_count": null,
   "metadata": {},
   "outputs": [],
   "source": [
    "import urllib2\n",
    "\n",
    "gh_url = 'https://api.github.com'\n",
    "\n",
    "req = urllib2.Request(gh_url)\n",
    "\n",
    "password_manager = urllib2.HTTPPasswordMgrWithDefaultRealm()\n",
    "password_manager.add_password(None, gh_url, 'user', 'pass')\n",
    "\n",
    "auth_manager = urllib2.HTTPBasicAuthHandler(password_manager)\n",
    "opener = urllib2.build_opener(auth_manager)\n",
    "\n",
    "urllib2.install_opener(opener)\n",
    "\n",
    "handler = urllib2.urlopen(req)\n",
    "\n",
    "print(handler.getcode())\n",
    "print(handler.headers.getheader('content-type'))"
   ]
  },
  {
   "cell_type": "markdown",
   "metadata": {},
   "source": [
    "### Further reading - https://python-requests.org\n",
    "---\n",
    "## Arrow - Better dates & times for Python\n",
    "\n",
    "### Why?\n",
    "\n",
    "- Too many modules: datetime, time, calendar, dateutil, pytz and more\n",
    "- Too many types: date, time, datetime, tzinfo, timedelta, relativedelta, etc.\n",
    "- Timezones and timestamp conversions are verbose and unpleasant\n",
    "- Timezone naivety is the norm\n",
    "- Gaps in functionality: ISO-8601 parsing, timespans, humanization\n"
   ]
  },
  {
   "cell_type": "code",
   "execution_count": 6,
   "metadata": {},
   "outputs": [],
   "source": [
    "import arrow"
   ]
  },
  {
   "cell_type": "code",
   "execution_count": null,
   "metadata": {},
   "outputs": [],
   "source": [
    "now = arrow.utcnow()"
   ]
  },
  {
   "cell_type": "code",
   "execution_count": null,
   "metadata": {},
   "outputs": [],
   "source": [
    "past = now.replace(days=-2)\n",
    "\n",
    "print(past.to('Europe/Moscow').format())\n",
    "\n",
    "print(past.humanize(locale='sk'))\n",
    "\n",
    "print(now.timestamp)"
   ]
  },
  {
   "cell_type": "code",
   "execution_count": null,
   "metadata": {},
   "outputs": [],
   "source": [
    "print(arrow.get('2013-05-05 12:30:45', 'YYYY-MM-DD HH:mm:ss'))\n",
    "\n",
    "print(now.datetime)"
   ]
  },
  {
   "cell_type": "markdown",
   "metadata": {},
   "source": [
    "### Further reading - https://arrow.readthedocs.io/"
   ]
  }
 ],
 "metadata": {
  "kernelspec": {
   "display_name": "Python 3",
   "language": "python",
   "name": "python3"
  },
  "language_info": {
   "codemirror_mode": {
    "name": "ipython",
    "version": 3
   },
   "file_extension": ".py",
   "mimetype": "text/x-python",
   "name": "python",
   "nbconvert_exporter": "python",
   "pygments_lexer": "ipython3",
   "version": "3.7.0"
  }
 },
 "nbformat": 4,
 "nbformat_minor": 2
}
